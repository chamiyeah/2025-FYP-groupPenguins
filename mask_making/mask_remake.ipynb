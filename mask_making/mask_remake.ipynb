{
 "cells": [
  {
   "cell_type": "markdown",
   "id": "71d5af2e",
   "metadata": {},
   "source": [
    "# Making masks"
   ]
  },
  {
   "cell_type": "code",
   "execution_count": 15,
   "id": "d4fd7423",
   "metadata": {},
   "outputs": [],
   "source": [
    "%matplotlib inline\n",
    "%matplotlib widget\n",
    "#try widget instead if graphs aren't showing\n",
    "\n",
    "import os\n",
    "import cv2\n",
    "import maxflow\n",
    "import numpy as np\n",
    "import matplotlib.pyplot as plt\n",
    "from os.path import join\n",
    "import ipywidgets as widgets\n",
    "from matplotlib.patches import Circle\n",
    "from IPython.display import display"
   ]
  },
  {
   "cell_type": "code",
   "execution_count": 16,
   "id": "3fb38a81",
   "metadata": {},
   "outputs": [],
   "source": [
    "def graphcut(image, scribble_mask, lambda_val=50, sigma=10):\n",
    "    H, W, _ = image.shape\n",
    "    img = image.astype(np.float64)\n",
    "    \n",
    "    # identify scribbled regions\n",
    "    fg_pixels = scribble_mask == 1  # definite foreground\n",
    "    bg_pixels = scribble_mask == 2  # definite background\n",
    "    \n",
    "    # compute mean colors for scribbled foreground and background\n",
    "    fg_mean = np.mean(img[fg_pixels], axis=0) if np.any(fg_pixels) else np.zeros(3)\n",
    "    bg_mean = np.mean(img[bg_pixels], axis=0) if np.any(bg_pixels) else np.zeros(3)\n",
    "    \n",
    "    # data costs based on squared color distances\n",
    "    data_cost_fg = np.sum((img - fg_mean)**2, axis=2)\n",
    "    data_cost_bg = np.sum((img - bg_mean)**2, axis=2)\n",
    "    \n",
    "    # normalize the data costs\n",
    "    data_cost_fg = data_cost_fg / (np.max(data_cost_fg) + 1e-8)\n",
    "    data_cost_bg = data_cost_bg / (np.max(data_cost_bg) + 1e-8)\n",
    "    \n",
    "    # build the graph\n",
    "    g = maxflow.Graph[float]()\n",
    "    nodeids = g.add_grid_nodes((H, W))\n",
    "    \n",
    "    # terminal (data) capacities\n",
    "    source_cap = data_cost_fg.copy()\n",
    "    sink_cap = data_cost_bg.copy()\n",
    "    \n",
    "    # for scribbled pixels, force the label\n",
    "    source_cap[scribble_mask == 1] = 0      # Force foreground.\n",
    "    sink_cap[scribble_mask == 1] = 1e9\n",
    "    source_cap[scribble_mask == 2] = 1e9      # Force background.\n",
    "    sink_cap[scribble_mask == 2] = 0\n",
    "    \n",
    "    g.add_grid_tedges(nodeids, source_cap, sink_cap)\n",
    "    \n",
    "    # add smoothness (neighborhood) terms\n",
    "    for i in range(H):\n",
    "        for j in range(W):\n",
    "            if j < W - 1:\n",
    "                diff = np.linalg.norm(img[i, j] - img[i, j+1])\n",
    "                weight = lambda_val * np.exp(- (diff**2) / (2 * sigma**2))\n",
    "                g.add_edge(nodeids[i, j], nodeids[i, j+1], weight, weight)\n",
    "                \n",
    "            if i < H - 1:\n",
    "                diff = np.linalg.norm(img[i, j] - img[i+1, j])\n",
    "                weight = lambda_val * np.exp(- (diff**2) / (2 * sigma**2))\n",
    "                g.add_edge(nodeids[i, j], nodeids[i+1, j], weight, weight)\n",
    "                \n",
    "    # compute the min-cut\n",
    "    g.maxflow()\n",
    "    seg_mask = np.zeros((H, W), dtype=bool)\n",
    "    for i in range(H):\n",
    "        for j in range(W):\n",
    "            seg_mask[i, j] = True if g.get_segment(nodeids[i, j]) == 0 else False\n",
    "            \n",
    "    return seg_mask"
   ]
  }
 ],
 "metadata": {
  "kernelspec": {
   "display_name": "base",
   "language": "python",
   "name": "python3"
  },
  "language_info": {
   "codemirror_mode": {
    "name": "ipython",
    "version": 3
   },
   "file_extension": ".py",
   "mimetype": "text/x-python",
   "name": "python",
   "nbconvert_exporter": "python",
   "pygments_lexer": "ipython3",
   "version": "3.12.4"
  }
 },
 "nbformat": 4,
 "nbformat_minor": 5
}
