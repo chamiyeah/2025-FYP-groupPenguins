{
 "cells": [
  {
   "cell_type": "markdown",
   "id": "7e417d37",
   "metadata": {},
   "source": [
    "- Checking how balanced the dataset is: how many cancerous and non-cancerous cases we have.\n",
    "- Cheching for duplicate images\n",
    "- Checking how many masks we have\n",
    "- How many masks are missing\n",
    "- Which masks are missing\n",
    "- Available images with masks\n",
    "- Available images: how many cancerous and non-cancerous cases we have"
   ]
  },
  {
   "cell_type": "code",
   "execution_count": 25,
   "id": "3251383e",
   "metadata": {},
   "outputs": [
    {
     "name": "stdout",
     "output_type": "stream",
     "text": [
      "Dataset:\n",
      "Total: 2298\n",
      "No duplicates: True\n",
      "Cancerous: 1089, non-cancerous: 1209, sum : 2298\n",
      "\n",
      "Report of the masks dataset:\n",
      "Provided masks: 2151\n",
      "No duplicates:True\n",
      "Files that have masks: 2103\n",
      "Files that do not have masks: 195\n",
      "Masks not from the provided dataset: 48\n",
      "Cancerous cases with masks:1048\n",
      "Non-cancerous cases with masks: 1055\n",
      "\n"
     ]
    },
    {
     "name": "stderr",
     "output_type": "stream",
     "text": [
      "C:\\Users\\Andrius\\AppData\\Local\\Temp\\ipykernel_21252\\28012189.py:10: SettingWithCopyWarning: \n",
      "A value is trying to be set on a copy of a slice from a DataFrame.\n",
      "Try using .loc[row_indexer,col_indexer] = value instead\n",
      "\n",
      "See the caveats in the documentation: https://pandas.pydata.org/pandas-docs/stable/user_guide/indexing.html#returning-a-view-versus-a-copy\n",
      "  df_gt['diagnostic'] = df_gt['diagnostic'].isin(['BCC', 'SCC', 'MEL']).astype(int)# label cancerous as 1's\n",
      "C:\\Users\\Andrius\\AppData\\Local\\Temp\\ipykernel_21252\\28012189.py:50: SettingWithCopyWarning: \n",
      "A value is trying to be set on a copy of a slice from a DataFrame.\n",
      "Try using .loc[row_indexer,col_indexer] = value instead\n",
      "\n",
      "See the caveats in the documentation: https://pandas.pydata.org/pandas-docs/stable/user_guide/indexing.html#returning-a-view-versus-a-copy\n",
      "  df_gt['img_base'] = df_gt['img_id'].str[:-4]\n"
     ]
    }
   ],
   "source": [
    "import pandas as pd\n",
    "import os\n",
    "from collections import Counter\n",
    "\n",
    "#orginal dataset\n",
    "ground_truth = \"dataset.csv\"\n",
    "df1 = pd.read_csv(ground_truth)\n",
    "\n",
    "df_gt = df1[['diagnostic', 'img_id']]\n",
    "df_gt['diagnostic'] = df_gt['diagnostic'].isin(['BCC', 'SCC', 'MEL']).astype(int)# label cancerous as 1's\n",
    "\n",
    "cancerous = df_gt[df_gt['diagnostic']==1]\n",
    "non_cancerous = df_gt[df_gt['diagnostic']==0]\n",
    "\n",
    "print('Dataset:')\n",
    "print(f'Total: {len(df1)}')\n",
    "print(f'No duplicates: {len(df1) == len(df1.drop_duplicates())}')\n",
    "print(f'Cancerous: {len(cancerous)}, non-cancerous: {len(non_cancerous)}, sum : {len(cancerous)+len(non_cancerous)}')\n",
    "\n",
    "#masks dataset\n",
    "\n",
    "#extracting base names without png\n",
    "lesion_files = {img_id[:-4] for img_id in df1['img_id']}\n",
    "\n",
    "#extract base names from masks file names\n",
    "mask_dir = './data/lesion_masks/' \n",
    "mask_files_list = [f.replace('_mask', '')[:-4] for f in os.listdir(mask_dir) if f.endswith('.png')] #for duplicates\n",
    "mask_files = {f.replace('_mask', '')[:-4] for f in os.listdir(mask_dir) if f.endswith('.png')}\n",
    "\n",
    "#checking for duplicates\n",
    "counts = Counter(mask_files_list)\n",
    "duplicates = {f for f, count in counts.items() if count > 1}\n",
    "\n",
    "#lesions that are missing\n",
    "missing_masks = lesion_files - mask_files\n",
    "has_mask = lesion_files & mask_files  #lesions that have masks\n",
    "extra_masks = mask_files - lesion_files #lesions that are not in the dataset\n",
    "\n",
    "available = len(lesion_files) - len(missing_masks) #available masks\n",
    "\n",
    "print('')\n",
    "print('Report of the masks dataset:')\n",
    "print(f'Provided masks: {len(mask_files)}')\n",
    "print(f'No duplicates:{0 == len(duplicates)}')\n",
    "print(f'Files that have masks: {len(has_mask)}')\n",
    "print(f'Files that do not have masks: {len(missing_masks)}')\n",
    "print(f'Masks not from the provided dataset: {len(extra_masks)}')\n",
    "\n",
    "#checking for balance in dataset with masks \n",
    "df_gt['img_base'] = df_gt['img_id'].str[:-4]\n",
    "\n",
    "df_with_masks = df_gt[df_gt['img_base'].isin(has_mask)].copy()\n",
    "\n",
    "df_with_masks.drop(columns='img_base', inplace=True)\n",
    "\n",
    "can_mask= df_with_masks[df_with_masks['diagnostic']==1]\n",
    "non_can_mask = df_with_masks[df_with_masks['diagnostic']==0]\n",
    "\n",
    "print(f'Cancerous cases with masks:{len(can_mask)}')\n",
    "print(f'Non-cancerous cases with masks: {len(non_can_mask)}')\n",
    "print(\"\")\n"
   ]
  },
  {
   "cell_type": "code",
   "execution_count": 52,
   "id": "afaca804",
   "metadata": {},
   "outputs": [
    {
     "data": {
      "text/html": [
       "<div>\n",
       "<style scoped>\n",
       "    .dataframe tbody tr th:only-of-type {\n",
       "        vertical-align: middle;\n",
       "    }\n",
       "\n",
       "    .dataframe tbody tr th {\n",
       "        vertical-align: top;\n",
       "    }\n",
       "\n",
       "    .dataframe thead th {\n",
       "        text-align: right;\n",
       "    }\n",
       "</style>\n",
       "<table border=\"1\" class=\"dataframe\">\n",
       "  <thead>\n",
       "    <tr style=\"text-align: right;\">\n",
       "      <th></th>\n",
       "      <th>diagnostic</th>\n",
       "      <th>img_id</th>\n",
       "      <th>img_base</th>\n",
       "    </tr>\n",
       "  </thead>\n",
       "  <tbody>\n",
       "    <tr>\n",
       "      <th>0</th>\n",
       "      <td>0</td>\n",
       "      <td>PAT_1516_1765_530.png</td>\n",
       "      <td>PAT_1516_1765_530</td>\n",
       "    </tr>\n",
       "    <tr>\n",
       "      <th>1</th>\n",
       "      <td>1</td>\n",
       "      <td>PAT_46_881_939.png</td>\n",
       "      <td>PAT_46_881_939</td>\n",
       "    </tr>\n",
       "    <tr>\n",
       "      <th>2</th>\n",
       "      <td>0</td>\n",
       "      <td>PAT_1545_1867_547.png</td>\n",
       "      <td>PAT_1545_1867_547</td>\n",
       "    </tr>\n",
       "    <tr>\n",
       "      <th>3</th>\n",
       "      <td>0</td>\n",
       "      <td>PAT_1989_4061_934.png</td>\n",
       "      <td>PAT_1989_4061_934</td>\n",
       "    </tr>\n",
       "    <tr>\n",
       "      <th>4</th>\n",
       "      <td>1</td>\n",
       "      <td>PAT_684_1302_588.png</td>\n",
       "      <td>PAT_684_1302_588</td>\n",
       "    </tr>\n",
       "    <tr>\n",
       "      <th>...</th>\n",
       "      <td>...</td>\n",
       "      <td>...</td>\n",
       "      <td>...</td>\n",
       "    </tr>\n",
       "    <tr>\n",
       "      <th>2293</th>\n",
       "      <td>0</td>\n",
       "      <td>PAT_1708_3156_175.png</td>\n",
       "      <td>PAT_1708_3156_175</td>\n",
       "    </tr>\n",
       "    <tr>\n",
       "      <th>2294</th>\n",
       "      <td>1</td>\n",
       "      <td>PAT_46_880_140.png</td>\n",
       "      <td>PAT_46_880_140</td>\n",
       "    </tr>\n",
       "    <tr>\n",
       "      <th>2295</th>\n",
       "      <td>0</td>\n",
       "      <td>PAT_1343_1217_404.png</td>\n",
       "      <td>PAT_1343_1217_404</td>\n",
       "    </tr>\n",
       "    <tr>\n",
       "      <th>2296</th>\n",
       "      <td>1</td>\n",
       "      <td>PAT_326_690_823.png</td>\n",
       "      <td>PAT_326_690_823</td>\n",
       "    </tr>\n",
       "    <tr>\n",
       "      <th>2297</th>\n",
       "      <td>0</td>\n",
       "      <td>PAT_1714_3189_989.png</td>\n",
       "      <td>PAT_1714_3189_989</td>\n",
       "    </tr>\n",
       "  </tbody>\n",
       "</table>\n",
       "<p>2298 rows × 3 columns</p>\n",
       "</div>"
      ],
      "text/plain": [
       "      diagnostic                 img_id           img_base\n",
       "0              0  PAT_1516_1765_530.png  PAT_1516_1765_530\n",
       "1              1     PAT_46_881_939.png     PAT_46_881_939\n",
       "2              0  PAT_1545_1867_547.png  PAT_1545_1867_547\n",
       "3              0  PAT_1989_4061_934.png  PAT_1989_4061_934\n",
       "4              1   PAT_684_1302_588.png   PAT_684_1302_588\n",
       "...          ...                    ...                ...\n",
       "2293           0  PAT_1708_3156_175.png  PAT_1708_3156_175\n",
       "2294           1     PAT_46_880_140.png     PAT_46_880_140\n",
       "2295           0  PAT_1343_1217_404.png  PAT_1343_1217_404\n",
       "2296           1    PAT_326_690_823.png    PAT_326_690_823\n",
       "2297           0  PAT_1714_3189_989.png  PAT_1714_3189_989\n",
       "\n",
       "[2298 rows x 3 columns]"
      ]
     },
     "execution_count": 52,
     "metadata": {},
     "output_type": "execute_result"
    }
   ],
   "source": [
    "df_gt"
   ]
  },
  {
   "cell_type": "markdown",
   "id": "4360e68a",
   "metadata": {},
   "source": [
<<<<<<< HEAD
    "Counting number of files - step after sorting"
=======
    "Counting number of files in part 1"
   ]
  },
  {
   "cell_type": "code",
   "execution_count": 33,
   "id": "26bd4946",
   "metadata": {},
   "outputs": [],
   "source": [
    "import shutil\n",
    "\n",
    "source_dir = './masked_out_lesions/'\n",
    "target_dir = './masked_noncancer/'\n",
    "\n",
    "# Get list of image names (from the DataFrame column)\n",
    "image_list = non_cancerous['img_id'].str.replace('.png', '_chopped.png').tolist()  # use 'img_id' if that's the column name\n",
    "\n",
    "missing = []\n",
    "# Loop and copy\n",
    "for img in image_list:\n",
    "    src_path = os.path.join(source_dir, img)\n",
    "    dst_path = os.path.join(target_dir, img)\n",
    "    if os.path.exists(src_path):\n",
<<<<<<< HEAD
    "        shutil.copy(src_path, dst_path)"
>>>>>>> gabi
=======
    "        shutil.copy(src_path, dst_path)\n",
    "    else:\n",
    "        missing.append(img)\n"
   ]
  },
  {
   "cell_type": "code",
   "execution_count": 54,
   "id": "3f7d4f96",
   "metadata": {},
   "outputs": [
    {
     "data": {
      "text/html": [
       "<div>\n",
       "<style scoped>\n",
       "    .dataframe tbody tr th:only-of-type {\n",
       "        vertical-align: middle;\n",
       "    }\n",
       "\n",
       "    .dataframe tbody tr th {\n",
       "        vertical-align: top;\n",
       "    }\n",
       "\n",
       "    .dataframe thead th {\n",
       "        text-align: right;\n",
       "    }\n",
       "</style>\n",
       "<table border=\"1\" class=\"dataframe\">\n",
       "  <thead>\n",
       "    <tr style=\"text-align: right;\">\n",
       "      <th></th>\n",
       "      <th>diagnostic</th>\n",
       "      <th>img_id</th>\n",
       "      <th>img_base</th>\n",
       "    </tr>\n",
       "  </thead>\n",
       "  <tbody>\n",
       "    <tr>\n",
       "      <th>24</th>\n",
       "      <td>1</td>\n",
       "      <td>PAT_106_159_325.png</td>\n",
       "      <td>PAT_106_159_325</td>\n",
       "    </tr>\n",
       "    <tr>\n",
       "      <th>30</th>\n",
       "      <td>0</td>\n",
       "      <td>PAT_107_160_609.png</td>\n",
       "      <td>PAT_107_160_609</td>\n",
       "    </tr>\n",
       "    <tr>\n",
       "      <th>47</th>\n",
       "      <td>0</td>\n",
       "      <td>PAT_289_1399_481.png</td>\n",
       "      <td>PAT_289_1399_481</td>\n",
       "    </tr>\n",
       "    <tr>\n",
       "      <th>62</th>\n",
       "      <td>0</td>\n",
       "      <td>PAT_26_37_865.png</td>\n",
       "      <td>PAT_26_37_865</td>\n",
       "    </tr>\n",
       "    <tr>\n",
       "      <th>85</th>\n",
       "      <td>1</td>\n",
       "      <td>PAT_98_152_562.png</td>\n",
       "      <td>PAT_98_152_562</td>\n",
       "    </tr>\n",
       "    <tr>\n",
       "      <th>...</th>\n",
       "      <td>...</td>\n",
       "      <td>...</td>\n",
       "      <td>...</td>\n",
       "    </tr>\n",
       "    <tr>\n",
       "      <th>2221</th>\n",
       "      <td>1</td>\n",
       "      <td>PAT_131_197_260.png</td>\n",
       "      <td>PAT_131_197_260</td>\n",
       "    </tr>\n",
       "    <tr>\n",
       "      <th>2244</th>\n",
       "      <td>1</td>\n",
       "      <td>PAT_135_202_593.png</td>\n",
       "      <td>PAT_135_202_593</td>\n",
       "    </tr>\n",
       "    <tr>\n",
       "      <th>2248</th>\n",
       "      <td>1</td>\n",
       "      <td>PAT_90_138_605.png</td>\n",
       "      <td>PAT_90_138_605</td>\n",
       "    </tr>\n",
       "    <tr>\n",
       "      <th>2265</th>\n",
       "      <td>1</td>\n",
       "      <td>PAT_160_249_76.png</td>\n",
       "      <td>PAT_160_249_76</td>\n",
       "    </tr>\n",
       "    <tr>\n",
       "      <th>2269</th>\n",
       "      <td>0</td>\n",
       "      <td>PAT_126_192_208.png</td>\n",
       "      <td>PAT_126_192_208</td>\n",
       "    </tr>\n",
       "  </tbody>\n",
       "</table>\n",
       "<p>120 rows × 3 columns</p>\n",
       "</div>"
      ],
      "text/plain": [
       "      diagnostic                img_id          img_base\n",
       "24             1   PAT_106_159_325.png   PAT_106_159_325\n",
       "30             0   PAT_107_160_609.png   PAT_107_160_609\n",
       "47             0  PAT_289_1399_481.png  PAT_289_1399_481\n",
       "62             0     PAT_26_37_865.png     PAT_26_37_865\n",
       "85             1    PAT_98_152_562.png    PAT_98_152_562\n",
       "...          ...                   ...               ...\n",
       "2221           1   PAT_131_197_260.png   PAT_131_197_260\n",
       "2244           1   PAT_135_202_593.png   PAT_135_202_593\n",
       "2248           1    PAT_90_138_605.png    PAT_90_138_605\n",
       "2265           1    PAT_160_249_76.png    PAT_160_249_76\n",
       "2269           0   PAT_126_192_208.png   PAT_126_192_208\n",
       "\n",
       "[120 rows x 3 columns]"
      ]
     },
     "execution_count": 54,
     "metadata": {},
     "output_type": "execute_result"
    }
   ],
   "source": [
    "import pandas as pd\n",
    "import os\n",
    "\n",
    "# List of filenames in ./masked_feature/\n",
    "directory = './masked_feature/'\n",
    "files = [f for f in os.listdir(directory) if os.path.isfile(os.path.join(directory, f))]\n",
    "\n",
    "# Extract base names without '_chopped.png'\n",
    "chopped_basenames = {f.replace('_chopped.png', '') for f in files}\n",
    "\n",
    "# Filter df_gt based on img_base column\n",
    "df_chopped = df_gt[df_gt['img_base'].isin(chopped_basenames)].copy()\n",
    "df_chopped"
   ]
  },
  {
   "cell_type": "code",
   "execution_count": 55,
   "id": "df3cb197",
   "metadata": {},
   "outputs": [],
   "source": [
    "df_chopped.to_csv('feature_extraction_set.csv', index=False)"
   ]
  },
  {
   "cell_type": "code",
   "execution_count": 50,
   "id": "d2bc1006",
   "metadata": {},
   "outputs": [
    {
     "name": "stdout",
     "output_type": "stream",
     "text": [
      "Number of files part 1: 120\n"
     ]
    }
   ],
   "source": [
    "#masked out\n",
    "directory = './masked_feature/' \n",
    "file_counta = len([f for f in os.listdir(directory) if os.path.isfile(os.path.join(directory, f))])\n",
    "\n",
    "print(f\"Number of files part 1: {file_counta}\")"
   ]
  },
  {
   "cell_type": "code",
   "execution_count": 43,
   "id": "9a59c90f",
   "metadata": {},
   "outputs": [
    {
     "name": "stdout",
     "output_type": "stream",
     "text": [
      "Number of files masked_noncancer: 214\n"
     ]
    }
   ],
   "source": [
    "directory = './masked_noncancer/' \n",
    "file_countb = len([f for f in os.listdir(directory) if os.path.isfile(os.path.join(directory, f))])\n",
    "\n",
    "print(f\"Number of files masked_noncancer: {file_countb}\")"
   ]
  },
  {
   "cell_type": "code",
   "execution_count": 44,
   "id": "f1897ab7",
   "metadata": {},
   "outputs": [
    {
     "name": "stdout",
     "output_type": "stream",
     "text": [
      "Number of files masked_cancer: 649\n"
     ]
    }
   ],
   "source": [
    "directory = './masked_cancer/' \n",
    "file_countc = len([f for f in os.listdir(directory) if os.path.isfile(os.path.join(directory, f))])\n",
    "\n",
    "print(f\"Number of files masked_cancer: {file_countc}\")"
   ]
  },
  {
   "cell_type": "code",
   "execution_count": 45,
   "id": "979a835d",
   "metadata": {},
   "outputs": [
    {
     "data": {
      "text/plain": [
       "True"
      ]
     },
     "execution_count": 45,
     "metadata": {},
     "output_type": "execute_result"
    }
   ],
   "source": [
    "file_counta == file_countb + file_countc"
   ]
  },
  {
   "cell_type": "markdown",
   "id": "d800405d",
   "metadata": {},
   "source": [
    "part_1"
>>>>>>> gabi
   ]
  },
  {
   "cell_type": "code",
   "execution_count": 11,
   "id": "8076c057",
   "metadata": {},
   "outputs": [
    {
     "name": "stdout",
     "output_type": "stream",
     "text": [
<<<<<<< HEAD
      "Number of files part 1: 2152\n"
=======
      "Number of files part 1: 911\n"
>>>>>>> gabi
     ]
    }
   ],
   "source": [
    "import os\n",
    "\n",
<<<<<<< HEAD
    "directory = './data/lesion_masks/' \n",
=======
    "directory = './data/skin_images/part_1/' \n",
>>>>>>> gabi
    "file_count1 = len([f for f in os.listdir(directory) if os.path.isfile(os.path.join(directory, f))])\n",
    "\n",
    "print(f\"Number of files part 1: {file_count1}\")"
   ]
  },
  {
   "cell_type": "code",
<<<<<<< HEAD
   "execution_count": 69,
=======
   "execution_count": 12,
>>>>>>> gabi
   "id": "1f46767d",
   "metadata": {},
   "outputs": [
    {
     "name": "stdout",
     "output_type": "stream",
     "text": [
      "Number of files cancerous: 670\n"
     ]
    }
   ],
   "source": [
    "directory = './data/skin_images/cancerous/' \n",
    "file_count2 = len([f for f in os.listdir(directory) if os.path.isfile(os.path.join(directory, f))])\n",
    "\n",
    "print(f\"Number of files cancerous: {file_count2}\")"
   ]
  },
  {
   "cell_type": "code",
<<<<<<< HEAD
   "execution_count": 70,
=======
   "execution_count": 13,
>>>>>>> gabi
   "id": "ef0b62b3",
   "metadata": {},
   "outputs": [
    {
     "name": "stdout",
     "output_type": "stream",
     "text": [
      "Number of files non-concerous: 241\n"
     ]
    }
   ],
   "source": [
    "directory = './data/skin_images/non_cancerous/' \n",
    "file_count3 = len([f for f in os.listdir(directory) if os.path.isfile(os.path.join(directory, f))])\n",
    "\n",
    "print(f\"Number of files non-concerous: {file_count3}\")\n"
   ]
  },
  {
   "cell_type": "code",
<<<<<<< HEAD
   "execution_count": 71,
=======
   "execution_count": 14,
>>>>>>> gabi
   "id": "9a852b6f",
   "metadata": {},
   "outputs": [
    {
     "data": {
      "text/plain": [
       "True"
      ]
     },
<<<<<<< HEAD
     "execution_count": 71,
=======
     "execution_count": 14,
>>>>>>> gabi
     "metadata": {},
     "output_type": "execute_result"
    }
   ],
   "source": [
    "file_count3 + file_count2 == file_count1"
   ]
  },
  {
   "cell_type": "markdown",
<<<<<<< HEAD
   "id": "68948e27",
   "metadata": {},
   "source": [
    "Sort the folders"
   ]
  },
  {
   "cell_type": "code",
   "execution_count": null,
   "id": "b04f18de",
   "metadata": {},
   "outputs": [],
   "source": [
    "\n",
    "import shutil\n",
    "\n",
    "source_dir = './data/skin_images/part_1/'\n",
    "target_dir = './data/skin_images/non_cancerous/'\n",
    "\n",
    "# Get list of image names (from the DataFrame column)\n",
    "image_list = non_cancerous['img_id'].str.strip().tolist()  # use 'img_id' if that's the column name\n",
    "\n",
    "# Loop and copy\n",
    "for img in image_list:\n",
    "    src_path = os.path.join(source_dir, img)\n",
    "    dst_path = os.path.join(target_dir, img)\n",
    "    if os.path.exists(src_path):\n",
    "        shutil.copy(src_path, dst_path)"
   ]
  },
  {
   "cell_type": "markdown",
   "id": "57a3e0a7",
   "metadata": {},
   "source": [
    "Data frame with files only from that directory"
=======
   "id": "57a3e0a7",
   "metadata": {},
   "source": [
    "Data frame with files only from part 1"
>>>>>>> gabi
   ]
  },
  {
   "cell_type": "code",
   "execution_count": 75,
   "id": "8131de72",
   "metadata": {},
   "outputs": [
    {
     "data": {
      "text/html": [
       "<div>\n",
       "<style scoped>\n",
       "    .dataframe tbody tr th:only-of-type {\n",
       "        vertical-align: middle;\n",
       "    }\n",
       "\n",
       "    .dataframe tbody tr th {\n",
       "        vertical-align: top;\n",
       "    }\n",
       "\n",
       "    .dataframe thead th {\n",
       "        text-align: right;\n",
       "    }\n",
       "</style>\n",
       "<table border=\"1\" class=\"dataframe\">\n",
       "  <thead>\n",
       "    <tr style=\"text-align: right;\">\n",
       "      <th></th>\n",
       "      <th>diagnostic</th>\n",
       "      <th>biopsed</th>\n",
       "      <th>img_id</th>\n",
       "    </tr>\n",
       "  </thead>\n",
       "  <tbody>\n",
       "    <tr>\n",
       "      <th>1</th>\n",
       "      <td>1</td>\n",
       "      <td>True</td>\n",
       "      <td>PAT_46_881_939.png</td>\n",
       "    </tr>\n",
       "    <tr>\n",
       "      <th>7</th>\n",
       "      <td>1</td>\n",
       "      <td>True</td>\n",
       "      <td>PAT_117_179_983.png</td>\n",
       "    </tr>\n",
       "    <tr>\n",
       "      <th>14</th>\n",
       "      <td>1</td>\n",
       "      <td>True</td>\n",
       "      <td>PAT_38_54_234.png</td>\n",
       "    </tr>\n",
       "    <tr>\n",
       "      <th>16</th>\n",
       "      <td>1</td>\n",
       "      <td>True</td>\n",
       "      <td>PAT_380_1540_959.png</td>\n",
       "    </tr>\n",
       "    <tr>\n",
       "      <th>24</th>\n",
       "      <td>1</td>\n",
       "      <td>True</td>\n",
       "      <td>PAT_106_159_325.png</td>\n",
       "    </tr>\n",
       "    <tr>\n",
       "      <th>...</th>\n",
       "      <td>...</td>\n",
       "      <td>...</td>\n",
       "      <td>...</td>\n",
       "    </tr>\n",
       "    <tr>\n",
       "      <th>2289</th>\n",
       "      <td>0</td>\n",
       "      <td>True</td>\n",
       "      <td>PAT_386_785_536.png</td>\n",
       "    </tr>\n",
       "    <tr>\n",
       "      <th>2291</th>\n",
       "      <td>1</td>\n",
       "      <td>True</td>\n",
       "      <td>PAT_273_421_905.png</td>\n",
       "    </tr>\n",
       "    <tr>\n",
       "      <th>2292</th>\n",
       "      <td>1</td>\n",
       "      <td>True</td>\n",
       "      <td>PAT_491_934_46.png</td>\n",
       "    </tr>\n",
       "    <tr>\n",
       "      <th>2294</th>\n",
       "      <td>1</td>\n",
       "      <td>True</td>\n",
       "      <td>PAT_46_880_140.png</td>\n",
       "    </tr>\n",
       "    <tr>\n",
       "      <th>2296</th>\n",
       "      <td>1</td>\n",
       "      <td>True</td>\n",
       "      <td>PAT_326_690_823.png</td>\n",
       "    </tr>\n",
       "  </tbody>\n",
       "</table>\n",
       "<p>911 rows × 3 columns</p>\n",
       "</div>"
      ],
      "text/plain": [
       "      diagnostic  biopsed                img_id\n",
       "1              1     True    PAT_46_881_939.png\n",
       "7              1     True   PAT_117_179_983.png\n",
       "14             1     True     PAT_38_54_234.png\n",
       "16             1     True  PAT_380_1540_959.png\n",
       "24             1     True   PAT_106_159_325.png\n",
       "...          ...      ...                   ...\n",
       "2289           0     True   PAT_386_785_536.png\n",
       "2291           1     True   PAT_273_421_905.png\n",
       "2292           1     True    PAT_491_934_46.png\n",
       "2294           1     True    PAT_46_880_140.png\n",
       "2296           1     True   PAT_326_690_823.png\n",
       "\n",
       "[911 rows x 3 columns]"
      ]
     },
     "execution_count": 75,
     "metadata": {},
     "output_type": "execute_result"
    }
   ],
   "source": [
    "image_folder = './data/skin_images/part_1/' \n",
    "file_names = [f for f in os.listdir(image_folder) if os.path.isfile(os.path.join(image_folder, f))]\n",
    "df_filtered = df_gt[df_gt['img_id'].isin(file_names)]\n",
    "df_filtered"
   ]
  },
  {
   "cell_type": "markdown",
   "id": "cf25f79a",
   "metadata": {},
   "source": [
    "Combine features and ground truth"
   ]
  },
  {
   "cell_type": "code",
   "execution_count": null,
   "id": "f336b39f",
   "metadata": {},
   "outputs": [
    {
     "name": "stderr",
     "output_type": "stream",
     "text": [
      "C:\\Users\\Andrius\\AppData\\Local\\Temp\\ipykernel_15040\\2685258578.py:11: SettingWithCopyWarning: \n",
      "A value is trying to be set on a copy of a slice from a DataFrame.\n",
      "Try using .loc[row_indexer,col_indexer] = value instead\n",
      "\n",
      "See the caveats in the documentation: https://pandas.pydata.org/pandas-docs/stable/user_guide/indexing.html#returning-a-view-versus-a-copy\n",
      "  df_gt['img_id'] = df_gt['img_id'].str.replace('.png', '', regex=False)\n"
     ]
    },
    {
     "data": {
      "text/html": [
       "<div>\n",
       "<style scoped>\n",
       "    .dataframe tbody tr th:only-of-type {\n",
       "        vertical-align: middle;\n",
       "    }\n",
       "\n",
       "    .dataframe tbody tr th {\n",
       "        vertical-align: top;\n",
       "    }\n",
       "\n",
       "    .dataframe thead th {\n",
       "        text-align: right;\n",
       "    }\n",
       "</style>\n",
       "<table border=\"1\" class=\"dataframe\">\n",
       "  <thead>\n",
       "    <tr style=\"text-align: right;\">\n",
       "      <th></th>\n",
       "      <th>image</th>\n",
       "      <th>asymmetry</th>\n",
       "      <th>compactness</th>\n",
       "      <th>convexity</th>\n",
       "      <th>irregular_pigmentation</th>\n",
       "      <th>vascular_measure</th>\n",
       "      <th>diagnostic</th>\n",
       "      <th>img_id</th>\n",
       "    </tr>\n",
       "  </thead>\n",
       "  <tbody>\n",
       "    <tr>\n",
       "      <th>0</th>\n",
       "      <td>PAT_10_18_830</td>\n",
       "      <td>0.133</td>\n",
       "      <td>197614.028</td>\n",
       "      <td>0.907</td>\n",
       "      <td>43.897</td>\n",
       "      <td>0</td>\n",
       "      <td>1</td>\n",
       "      <td>PAT_10_18_830</td>\n",
       "    </tr>\n",
       "    <tr>\n",
       "      <th>1</th>\n",
       "      <td>PAT_13_21_350</td>\n",
       "      <td>0.160</td>\n",
       "      <td>2174306.025</td>\n",
       "      <td>0.957</td>\n",
       "      <td>36.042</td>\n",
       "      <td>0</td>\n",
       "      <td>1</td>\n",
       "      <td>PAT_13_21_350</td>\n",
       "    </tr>\n",
       "    <tr>\n",
       "      <th>2</th>\n",
       "      <td>PAT_14_22_850</td>\n",
       "      <td>0.183</td>\n",
       "      <td>1024721.291</td>\n",
       "      <td>0.909</td>\n",
       "      <td>68.824</td>\n",
       "      <td>0</td>\n",
       "      <td>1</td>\n",
       "      <td>PAT_14_22_850</td>\n",
       "    </tr>\n",
       "    <tr>\n",
       "      <th>3</th>\n",
       "      <td>PAT_15_1001_749</td>\n",
       "      <td>0.912</td>\n",
       "      <td>42770.871</td>\n",
       "      <td>0.372</td>\n",
       "      <td>42.968</td>\n",
       "      <td>0</td>\n",
       "      <td>1</td>\n",
       "      <td>PAT_15_1001_749</td>\n",
       "    </tr>\n",
       "    <tr>\n",
       "      <th>4</th>\n",
       "      <td>PAT_15_23_240</td>\n",
       "      <td>0.097</td>\n",
       "      <td>1810465.144</td>\n",
       "      <td>0.965</td>\n",
       "      <td>43.788</td>\n",
       "      <td>0</td>\n",
       "      <td>1</td>\n",
       "      <td>PAT_15_23_240</td>\n",
       "    </tr>\n",
       "    <tr>\n",
       "      <th>5</th>\n",
       "      <td>PAT_15_3138_959</td>\n",
       "      <td>0.640</td>\n",
       "      <td>6935073.772</td>\n",
       "      <td>0.404</td>\n",
       "      <td>43.843</td>\n",
       "      <td>0</td>\n",
       "      <td>0</td>\n",
       "      <td>PAT_15_3138_959</td>\n",
       "    </tr>\n",
       "    <tr>\n",
       "      <th>6</th>\n",
       "      <td>PAT_16_24_691</td>\n",
       "      <td>0.045</td>\n",
       "      <td>1286594.094</td>\n",
       "      <td>0.988</td>\n",
       "      <td>73.017</td>\n",
       "      <td>0</td>\n",
       "      <td>1</td>\n",
       "      <td>PAT_16_24_691</td>\n",
       "    </tr>\n",
       "    <tr>\n",
       "      <th>7</th>\n",
       "      <td>PAT_20_29_850</td>\n",
       "      <td>0.230</td>\n",
       "      <td>2493292.851</td>\n",
       "      <td>0.894</td>\n",
       "      <td>50.131</td>\n",
       "      <td>0</td>\n",
       "      <td>1</td>\n",
       "      <td>PAT_20_29_850</td>\n",
       "    </tr>\n",
       "    <tr>\n",
       "      <th>8</th>\n",
       "      <td>PAT_20_30_44</td>\n",
       "      <td>0.105</td>\n",
       "      <td>1299627.933</td>\n",
       "      <td>0.971</td>\n",
       "      <td>60.502</td>\n",
       "      <td>0</td>\n",
       "      <td>1</td>\n",
       "      <td>PAT_20_30_44</td>\n",
       "    </tr>\n",
       "    <tr>\n",
       "      <th>9</th>\n",
       "      <td>PAT_21_31_965</td>\n",
       "      <td>0.194</td>\n",
       "      <td>724635.798</td>\n",
       "      <td>0.914</td>\n",
       "      <td>80.120</td>\n",
       "      <td>0</td>\n",
       "      <td>0</td>\n",
       "      <td>PAT_21_31_965</td>\n",
       "    </tr>\n",
       "    <tr>\n",
       "      <th>10</th>\n",
       "      <td>PAT_26_37_865</td>\n",
       "      <td>0.108</td>\n",
       "      <td>780626.019</td>\n",
       "      <td>0.972</td>\n",
       "      <td>51.767</td>\n",
       "      <td>0</td>\n",
       "      <td>0</td>\n",
       "      <td>PAT_26_37_865</td>\n",
       "    </tr>\n",
       "    <tr>\n",
       "      <th>11</th>\n",
       "      <td>PAT_27_38_240</td>\n",
       "      <td>0.090</td>\n",
       "      <td>2732315.695</td>\n",
       "      <td>0.984</td>\n",
       "      <td>70.627</td>\n",
       "      <td>0</td>\n",
       "      <td>0</td>\n",
       "      <td>PAT_27_38_240</td>\n",
       "    </tr>\n",
       "    <tr>\n",
       "      <th>12</th>\n",
       "      <td>PAT_29_40_561</td>\n",
       "      <td>0.144</td>\n",
       "      <td>1683727.816</td>\n",
       "      <td>0.977</td>\n",
       "      <td>73.227</td>\n",
       "      <td>0</td>\n",
       "      <td>0</td>\n",
       "      <td>PAT_29_40_561</td>\n",
       "    </tr>\n",
       "    <tr>\n",
       "      <th>13</th>\n",
       "      <td>PAT_36_50_14</td>\n",
       "      <td>0.257</td>\n",
       "      <td>1944181.541</td>\n",
       "      <td>0.905</td>\n",
       "      <td>56.145</td>\n",
       "      <td>0</td>\n",
       "      <td>0</td>\n",
       "      <td>PAT_36_50_14</td>\n",
       "    </tr>\n",
       "    <tr>\n",
       "      <th>14</th>\n",
       "      <td>PAT_38_1003_226</td>\n",
       "      <td>0.186</td>\n",
       "      <td>2578006.515</td>\n",
       "      <td>0.925</td>\n",
       "      <td>42.764</td>\n",
       "      <td>16</td>\n",
       "      <td>0</td>\n",
       "      <td>PAT_38_1003_226</td>\n",
       "    </tr>\n",
       "    <tr>\n",
       "      <th>15</th>\n",
       "      <td>PAT_38_1003_68</td>\n",
       "      <td>0.205</td>\n",
       "      <td>337580.809</td>\n",
       "      <td>0.826</td>\n",
       "      <td>43.925</td>\n",
       "      <td>0</td>\n",
       "      <td>0</td>\n",
       "      <td>PAT_38_1003_68</td>\n",
       "    </tr>\n",
       "    <tr>\n",
       "      <th>16</th>\n",
       "      <td>PAT_8_15_820</td>\n",
       "      <td>0.131</td>\n",
       "      <td>2501895.579</td>\n",
       "      <td>0.966</td>\n",
       "      <td>57.769</td>\n",
       "      <td>0</td>\n",
       "      <td>1</td>\n",
       "      <td>PAT_8_15_820</td>\n",
       "    </tr>\n",
       "    <tr>\n",
       "      <th>17</th>\n",
       "      <td>PAT_9_17_80</td>\n",
       "      <td>0.495</td>\n",
       "      <td>738582.992</td>\n",
       "      <td>0.792</td>\n",
       "      <td>44.951</td>\n",
       "      <td>0</td>\n",
       "      <td>0</td>\n",
       "      <td>PAT_9_17_80</td>\n",
       "    </tr>\n",
       "  </tbody>\n",
       "</table>\n",
       "</div>"
      ],
      "text/plain": [
       "              image  asymmetry  compactness  convexity  \\\n",
       "0     PAT_10_18_830      0.133   197614.028      0.907   \n",
       "1     PAT_13_21_350      0.160  2174306.025      0.957   \n",
       "2     PAT_14_22_850      0.183  1024721.291      0.909   \n",
       "3   PAT_15_1001_749      0.912    42770.871      0.372   \n",
       "4     PAT_15_23_240      0.097  1810465.144      0.965   \n",
       "5   PAT_15_3138_959      0.640  6935073.772      0.404   \n",
       "6     PAT_16_24_691      0.045  1286594.094      0.988   \n",
       "7     PAT_20_29_850      0.230  2493292.851      0.894   \n",
       "8      PAT_20_30_44      0.105  1299627.933      0.971   \n",
       "9     PAT_21_31_965      0.194   724635.798      0.914   \n",
       "10    PAT_26_37_865      0.108   780626.019      0.972   \n",
       "11    PAT_27_38_240      0.090  2732315.695      0.984   \n",
       "12    PAT_29_40_561      0.144  1683727.816      0.977   \n",
       "13     PAT_36_50_14      0.257  1944181.541      0.905   \n",
       "14  PAT_38_1003_226      0.186  2578006.515      0.925   \n",
       "15   PAT_38_1003_68      0.205   337580.809      0.826   \n",
       "16     PAT_8_15_820      0.131  2501895.579      0.966   \n",
       "17      PAT_9_17_80      0.495   738582.992      0.792   \n",
       "\n",
       "    irregular_pigmentation  vascular_measure  diagnostic           img_id  \n",
       "0                   43.897                 0           1    PAT_10_18_830  \n",
       "1                   36.042                 0           1    PAT_13_21_350  \n",
       "2                   68.824                 0           1    PAT_14_22_850  \n",
       "3                   42.968                 0           1  PAT_15_1001_749  \n",
       "4                   43.788                 0           1    PAT_15_23_240  \n",
       "5                   43.843                 0           0  PAT_15_3138_959  \n",
       "6                   73.017                 0           1    PAT_16_24_691  \n",
       "7                   50.131                 0           1    PAT_20_29_850  \n",
       "8                   60.502                 0           1     PAT_20_30_44  \n",
       "9                   80.120                 0           0    PAT_21_31_965  \n",
       "10                  51.767                 0           0    PAT_26_37_865  \n",
       "11                  70.627                 0           0    PAT_27_38_240  \n",
       "12                  73.227                 0           0    PAT_29_40_561  \n",
       "13                  56.145                 0           0     PAT_36_50_14  \n",
       "14                  42.764                16           0  PAT_38_1003_226  \n",
       "15                  43.925                 0           0   PAT_38_1003_68  \n",
       "16                  57.769                 0           1     PAT_8_15_820  \n",
       "17                  44.951                 0           0      PAT_9_17_80  "
      ]
     },
     "execution_count": 10,
     "metadata": {},
     "output_type": "execute_result"
    }
   ],
   "source": [
    "import matplotlib.pyplot as plt\n",
    "import numpy as np\n",
    "import pandas as pd\n",
    "\n",
    "file_features = 'result/features.csv'\n",
    "\n",
    "features = pd.read_csv(file_features)\n",
    "\n",
    "df_gt #1 for cancerous cases and 0 for non-cancerous\n",
    "\n",
    "df_gt['img_id'] = df_gt['img_id'].str.replace('.png', '', regex=False)\n",
    "merged = pd.merge(features, df_gt, left_on='image', right_on='img_id', how='left')\n",
    "\n",
    "merged"
   ]
  },
  {
   "cell_type": "code",
   "execution_count": 14,
   "id": "b3b25859",
   "metadata": {},
   "outputs": [
    {
     "name": "stdout",
     "output_type": "stream",
     "text": [
      "Accuracy: 0.75\n",
      "Classification report:\n",
      "               precision    recall  f1-score   support\n",
      "\n",
      "           0       0.67      1.00      0.80         2\n",
      "           1       1.00      0.50      0.67         2\n",
      "\n",
      "    accuracy                           0.75         4\n",
      "   macro avg       0.83      0.75      0.73         4\n",
      "weighted avg       0.83      0.75      0.73         4\n",
      "\n"
     ]
    },
    {
     "name": "stderr",
     "output_type": "stream",
     "text": [
      "c:\\Users\\Andrius\\anaconda3\\Lib\\site-packages\\sklearn\\utils\\validation.py:1339: DataConversionWarning: A column-vector y was passed when a 1d array was expected. Please change the shape of y to (n_samples, ), for example using ravel().\n",
      "  y = column_or_1d(y, warn=True)\n"
     ]
    }
   ],
   "source": [
    "from sklearn.model_selection import train_test_split\n",
    "from sklearn.linear_model import LogisticRegression\n",
    "from sklearn.model_selection import train_test_split\n",
    "from sklearn.metrics import accuracy_score, classification_report\n",
    "\n",
    "x = merged[['asymmetry', 'compactness', 'irregular_pigmentation']]\n",
    "y = merged[['diagnostic']]\n",
    "\n",
    "X_train, X_test, y_train, y_test = train_test_split(x, y, stratify=y, test_size=0.2, random_state=42)\n",
    "model = LogisticRegression(max_iter=200)\n",
    "model.fit(X_train, y_train)\n",
    "\n",
    "y_pred = model.predict(X_test)\n",
    "print(\"Accuracy:\", accuracy_score(y_test, y_pred))\n",
    "print(\"Classification report:\\n\", classification_report(y_test, y_pred))\n"
   ]
  }
 ],
 "metadata": {
  "kernelspec": {
   "display_name": "Python 3",
   "language": "python",
   "name": "python3"
  },
  "language_info": {
   "codemirror_mode": {
    "name": "ipython",
    "version": 3
   },
   "file_extension": ".py",
   "mimetype": "text/x-python",
   "name": "python",
   "nbconvert_exporter": "python",
   "pygments_lexer": "ipython3",
   "version": "3.12.7"
  }
 },
 "nbformat": 4,
 "nbformat_minor": 5
}
