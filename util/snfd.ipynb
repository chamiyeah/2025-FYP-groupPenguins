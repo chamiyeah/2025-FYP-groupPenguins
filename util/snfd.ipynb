{
 "cells": [
  {
   "cell_type": "code",
   "execution_count": 8,
   "id": "6f596783",
   "metadata": {},
   "outputs": [
    {
     "data": {
      "text/html": [
       "<div>\n",
       "<style scoped>\n",
       "    .dataframe tbody tr th:only-of-type {\n",
       "        vertical-align: middle;\n",
       "    }\n",
       "\n",
       "    .dataframe tbody tr th {\n",
       "        vertical-align: top;\n",
       "    }\n",
       "\n",
       "    .dataframe thead th {\n",
       "        text-align: right;\n",
       "    }\n",
       "</style>\n",
       "<table border=\"1\" class=\"dataframe\">\n",
       "  <thead>\n",
       "    <tr style=\"text-align: right;\">\n",
       "      <th></th>\n",
       "      <th>img_id</th>\n",
       "      <th>patient_id</th>\n",
       "      <th>cancer</th>\n",
       "    </tr>\n",
       "  </thead>\n",
       "  <tbody>\n",
       "    <tr>\n",
       "      <th>0</th>\n",
       "      <td>PAT_8_15_820.png</td>\n",
       "      <td>PAT_8</td>\n",
       "      <td>True</td>\n",
       "    </tr>\n",
       "    <tr>\n",
       "      <th>1</th>\n",
       "      <td>PAT_9_17_80.png</td>\n",
       "      <td>PAT_9</td>\n",
       "      <td>False</td>\n",
       "    </tr>\n",
       "    <tr>\n",
       "      <th>2</th>\n",
       "      <td>PAT_10_18_830.png</td>\n",
       "      <td>PAT_10</td>\n",
       "      <td>True</td>\n",
       "    </tr>\n",
       "    <tr>\n",
       "      <th>3</th>\n",
       "      <td>PAT_13_21_350.png</td>\n",
       "      <td>PAT_13</td>\n",
       "      <td>True</td>\n",
       "    </tr>\n",
       "    <tr>\n",
       "      <th>4</th>\n",
       "      <td>PAT_14_22_850.png</td>\n",
       "      <td>PAT_14</td>\n",
       "      <td>True</td>\n",
       "    </tr>\n",
       "  </tbody>\n",
       "</table>\n",
       "</div>"
      ],
      "text/plain": [
       "              img_id patient_id  cancer\n",
       "0   PAT_8_15_820.png      PAT_8    True\n",
       "1    PAT_9_17_80.png      PAT_9   False\n",
       "2  PAT_10_18_830.png     PAT_10    True\n",
       "3  PAT_13_21_350.png     PAT_13    True\n",
       "4  PAT_14_22_850.png     PAT_14    True"
      ]
     },
     "execution_count": 8,
     "metadata": {},
     "output_type": "execute_result"
    }
   ],
   "source": [
    "import pandas as pd \n",
    "metadata_path = '../dataset.csv'\n",
    "process_images = \"../good_images_list.csv\"\n",
    "\n",
    "metadata = pd.read_csv(metadata_path)\n",
    "good_pics = pd.read_csv(process_images).rename(columns={\"Filename\": \"img_id\"})\n",
    "\n",
    "# Merge to keep only good pictures (left join keeps order of good_pics)\n",
    "filtered = good_pics.merge(metadata, on='img_id', how='left')\n",
    "\n",
    "# Create 'cancer' column: True if diagnosis is SCC, BCC, or MEL\n",
    "filtered['cancer'] = filtered['diagnostic'].isin(['BCC', 'MEL', 'SCC'])\n",
    "filtered = filtered[['img_id', 'patient_id', 'cancer']]\n",
    "filtered.head()"
   ]
  }
 ],
 "metadata": {
  "kernelspec": {
   "display_name": "base",
   "language": "python",
   "name": "python3"
  },
  "language_info": {
   "codemirror_mode": {
    "name": "ipython",
    "version": 3
   },
   "file_extension": ".py",
   "mimetype": "text/x-python",
   "name": "python",
   "nbconvert_exporter": "python",
   "pygments_lexer": "ipython3",
   "version": "3.12.3"
  }
 },
 "nbformat": 4,
 "nbformat_minor": 5
}
